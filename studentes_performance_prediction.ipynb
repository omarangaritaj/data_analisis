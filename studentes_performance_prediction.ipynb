{
 "cells": [
  {
   "cell_type": "code",
   "execution_count": 2,
   "metadata": {
    "collapsed": true,
    "ExecuteTime": {
     "start_time": "2023-04-02T21:56:08.068091Z",
     "end_time": "2023-04-02T21:56:08.192970Z"
    }
   },
   "outputs": [],
   "source": [
    "import numpy as np\n",
    "import pandas as pd\n",
    "import matplotlib.pyplot as plt\n",
    "\n",
    "exams = pd.read_csv('exams.csv')"
   ]
  },
  {
   "cell_type": "code",
   "execution_count": 3,
   "outputs": [
    {
     "data": {
      "text/plain": "     gender race/ethnicity parental level of education         lunch  \\\n0    female        group D                some college      standard   \n1      male        group D          associate's degree      standard   \n2    female        group D                some college  free/reduced   \n3      male        group B                some college  free/reduced   \n4    female        group D          associate's degree      standard   \n..      ...            ...                         ...           ...   \n995    male        group C                some college      standard   \n996    male        group C                some college      standard   \n997  female        group A                 high school      standard   \n998    male        group E                 high school      standard   \n999    male        group D                 high school      standard   \n\n    test preparation course  math score  reading score  writing score  \n0                 completed          59             70             78  \n1                      none          96             93             87  \n2                      none          57             76             77  \n3                      none          70             70             63  \n4                      none          83             85             86  \n..                      ...         ...            ...            ...  \n995                    none          77             77             71  \n996                    none          80             66             66  \n997               completed          67             86             86  \n998                    none          80             72             62  \n999                    none          58             47             45  \n\n[1000 rows x 8 columns]",
      "text/html": "<div>\n<style scoped>\n    .dataframe tbody tr th:only-of-type {\n        vertical-align: middle;\n    }\n\n    .dataframe tbody tr th {\n        vertical-align: top;\n    }\n\n    .dataframe thead th {\n        text-align: right;\n    }\n</style>\n<table border=\"1\" class=\"dataframe\">\n  <thead>\n    <tr style=\"text-align: right;\">\n      <th></th>\n      <th>gender</th>\n      <th>race/ethnicity</th>\n      <th>parental level of education</th>\n      <th>lunch</th>\n      <th>test preparation course</th>\n      <th>math score</th>\n      <th>reading score</th>\n      <th>writing score</th>\n    </tr>\n  </thead>\n  <tbody>\n    <tr>\n      <th>0</th>\n      <td>female</td>\n      <td>group D</td>\n      <td>some college</td>\n      <td>standard</td>\n      <td>completed</td>\n      <td>59</td>\n      <td>70</td>\n      <td>78</td>\n    </tr>\n    <tr>\n      <th>1</th>\n      <td>male</td>\n      <td>group D</td>\n      <td>associate's degree</td>\n      <td>standard</td>\n      <td>none</td>\n      <td>96</td>\n      <td>93</td>\n      <td>87</td>\n    </tr>\n    <tr>\n      <th>2</th>\n      <td>female</td>\n      <td>group D</td>\n      <td>some college</td>\n      <td>free/reduced</td>\n      <td>none</td>\n      <td>57</td>\n      <td>76</td>\n      <td>77</td>\n    </tr>\n    <tr>\n      <th>3</th>\n      <td>male</td>\n      <td>group B</td>\n      <td>some college</td>\n      <td>free/reduced</td>\n      <td>none</td>\n      <td>70</td>\n      <td>70</td>\n      <td>63</td>\n    </tr>\n    <tr>\n      <th>4</th>\n      <td>female</td>\n      <td>group D</td>\n      <td>associate's degree</td>\n      <td>standard</td>\n      <td>none</td>\n      <td>83</td>\n      <td>85</td>\n      <td>86</td>\n    </tr>\n    <tr>\n      <th>...</th>\n      <td>...</td>\n      <td>...</td>\n      <td>...</td>\n      <td>...</td>\n      <td>...</td>\n      <td>...</td>\n      <td>...</td>\n      <td>...</td>\n    </tr>\n    <tr>\n      <th>995</th>\n      <td>male</td>\n      <td>group C</td>\n      <td>some college</td>\n      <td>standard</td>\n      <td>none</td>\n      <td>77</td>\n      <td>77</td>\n      <td>71</td>\n    </tr>\n    <tr>\n      <th>996</th>\n      <td>male</td>\n      <td>group C</td>\n      <td>some college</td>\n      <td>standard</td>\n      <td>none</td>\n      <td>80</td>\n      <td>66</td>\n      <td>66</td>\n    </tr>\n    <tr>\n      <th>997</th>\n      <td>female</td>\n      <td>group A</td>\n      <td>high school</td>\n      <td>standard</td>\n      <td>completed</td>\n      <td>67</td>\n      <td>86</td>\n      <td>86</td>\n    </tr>\n    <tr>\n      <th>998</th>\n      <td>male</td>\n      <td>group E</td>\n      <td>high school</td>\n      <td>standard</td>\n      <td>none</td>\n      <td>80</td>\n      <td>72</td>\n      <td>62</td>\n    </tr>\n    <tr>\n      <th>999</th>\n      <td>male</td>\n      <td>group D</td>\n      <td>high school</td>\n      <td>standard</td>\n      <td>none</td>\n      <td>58</td>\n      <td>47</td>\n      <td>45</td>\n    </tr>\n  </tbody>\n</table>\n<p>1000 rows × 8 columns</p>\n</div>"
     },
     "execution_count": 3,
     "metadata": {},
     "output_type": "execute_result"
    }
   ],
   "source": [
    "exams"
   ],
   "metadata": {
    "collapsed": false,
    "ExecuteTime": {
     "start_time": "2023-04-02T21:56:17.953484Z",
     "end_time": "2023-04-02T21:56:17.971019Z"
    }
   }
  },
  {
   "cell_type": "code",
   "execution_count": 5,
   "outputs": [
    {
     "name": "stdout",
     "output_type": "stream",
     "text": [
      "<class 'pandas.core.frame.DataFrame'>\n",
      "RangeIndex: 1000 entries, 0 to 999\n",
      "Data columns (total 8 columns):\n",
      " #   Column                       Non-Null Count  Dtype \n",
      "---  ------                       --------------  ----- \n",
      " 0   gender                       1000 non-null   object\n",
      " 1   race/ethnicity               1000 non-null   object\n",
      " 2   parental level of education  1000 non-null   object\n",
      " 3   lunch                        1000 non-null   object\n",
      " 4   test preparation course      1000 non-null   object\n",
      " 5   math score                   1000 non-null   int64 \n",
      " 6   reading score                1000 non-null   int64 \n",
      " 7   writing score                1000 non-null   int64 \n",
      "dtypes: int64(3), object(5)\n",
      "memory usage: 62.6+ KB\n"
     ]
    }
   ],
   "source": [
    "exams.info()"
   ],
   "metadata": {
    "collapsed": false,
    "ExecuteTime": {
     "start_time": "2023-04-02T21:57:00.743026Z",
     "end_time": "2023-04-02T21:57:00.746115Z"
    }
   }
  },
  {
   "cell_type": "code",
   "execution_count": null,
   "outputs": [],
   "source": [],
   "metadata": {
    "collapsed": false
   }
  }
 ],
 "metadata": {
  "kernelspec": {
   "display_name": "Python 3",
   "language": "python",
   "name": "python3"
  },
  "language_info": {
   "codemirror_mode": {
    "name": "ipython",
    "version": 2
   },
   "file_extension": ".py",
   "mimetype": "text/x-python",
   "name": "python",
   "nbconvert_exporter": "python",
   "pygments_lexer": "ipython2",
   "version": "2.7.6"
  }
 },
 "nbformat": 4,
 "nbformat_minor": 0
}
